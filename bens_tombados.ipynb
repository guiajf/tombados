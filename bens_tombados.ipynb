{
 "cells": [
  {
   "cell_type": "markdown",
   "id": "76e3e982-6efe-4caa-ae28-a6da5db08e71",
   "metadata": {},
   "source": [
    "# Patrimônio histórico de Juiz de Fora"
   ]
  },
  {
   "cell_type": "markdown",
   "id": "0d885cac-0f98-4129-82ee-e5834d3507cb",
   "metadata": {},
   "source": [
    "Para mapeamento do patrimônio histórico de Juiz de Fora, considerando os bens tombados, realizamos o download de tabela existente na Wikipedia, com o auxílio de bibliotecas do Python."
   ]
  },
  {
   "cell_type": "markdown",
   "id": "ad039b0a-d077-49e8-88eb-5031dc14f07d",
   "metadata": {},
   "source": [
    "### Importamos as bibliotecas"
   ]
  },
  {
   "cell_type": "code",
   "execution_count": null,
   "id": "bea97f41-f558-4bdc-839a-c501f9a92b76",
   "metadata": {},
   "outputs": [],
   "source": [
    "import requests\n",
    "import numpy as np\n",
    "import osmnx as ox\n",
    "from bs4 import BeautifulSoup\n",
    "import folium\n",
    "from folium.plugins import Search\n",
    "import json"
   ]
  },
  {
   "cell_type": "markdown",
   "id": "df286872-1c13-4d0e-97a6-3f502feae2c6",
   "metadata": {},
   "source": [
    "### Baixamos a lista de bens tombados"
   ]
  },
  {
   "cell_type": "code",
   "execution_count": null,
   "id": "ca14fc82-ad4a-44b0-b9dd-abef445ef73a",
   "metadata": {},
   "outputs": [],
   "source": [
    "\n",
    "\n",
    "def extrair_bens_tombados():\n",
    "    url = \"https://pt.wikipedia.org/wiki/Lista_de_bens_tombados_em_Juiz_de_Fora\" \n",
    "    response = requests.get(url)\n",
    "    soup = BeautifulSoup(response.text, 'html.parser')\n",
    "\n",
    "    table = soup.find('table', {'class': 'wikitable'})\n",
    "    bens_list = []\n",
    "\n",
    "    for row in table.find_all('tr')[1:]:\n",
    "        cols = row.find_all(['td', 'th'])\n",
    "        if len(cols) >= 5:\n",
    "            nome_bem = cols[1].get_text(strip=True)\n",
    "            coord_texto = cols[3].get_text(strip=True)\n",
    "\n",
    "            try:\n",
    "                lat, lon = extrair_coordenadas(coord_texto)\n",
    "                if lat is not None and lon is not None:\n",
    "                    bens_list.append({\n",
    "                        'Bem': nome_bem,\n",
    "                        'Latitude': lat,\n",
    "                        'Longitude': lon\n",
    "                    })\n",
    "            except Exception as e:\n",
    "                print(f\"Erro ao processar linha: {e}\")\n",
    "                continue\n",
    "\n",
    "    return bens_list\n",
    "\n",
    "def extrair_coordenadas(texto):\n",
    "    if not texto.strip():\n",
    "        return None, None\n",
    "\n",
    "    try:\n",
    "        partes = texto.split(',')\n",
    "        if len(partes) < 2:\n",
    "            return None, None\n",
    "\n",
    "        lat_str = partes[0].strip()\n",
    "        lon_str = partes[1].strip()\n",
    "\n",
    "        def dms_para_decimal(dms):\n",
    "            dms = dms.replace('°', ' ').replace('′', ' ').replace('″', '').strip()\n",
    "            graus, minutos, segundos = map(float, dms.split()[:3])\n",
    "            direcao = dms.split()[-1]\n",
    "\n",
    "            decimal = abs(graus) + minutos / 60 + segundos / 3600\n",
    "            if direcao in ['S', 'O']:\n",
    "                decimal *= -1\n",
    "\n",
    "            return decimal\n",
    "\n",
    "        lat = dms_para_decimal(lat_str)\n",
    "        lon = dms_para_decimal(lon_str)\n",
    "\n",
    "        return lat, lon\n",
    "    except Exception as e:\n",
    "        print(f\"Erro ao processar coordenada: {texto} - {e}\")\n",
    "        return None, None\n",
    "\n",
    "# Extração dos dados\n",
    "bens = extrair_bens_tombados()\n"
   ]
  },
  {
   "cell_type": "markdown",
   "id": "3d16fe6c-8daf-4e78-829d-9b0d98e068c0",
   "metadata": {},
   "source": [
    "### Convertemos a lista em data frame"
   ]
  },
  {
   "cell_type": "code",
   "execution_count": null,
   "id": "152c483d-dd9b-4b26-83ed-86c271674946",
   "metadata": {},
   "outputs": [],
   "source": [
    "import pandas as pd\n",
    "\n",
    "df = pd.DataFrame(bens)\n",
    "df.to_csv(\"bens_tombados_jf.csv\", index=False, sep=\";\", encoding=\"utf-8\")"
   ]
  },
  {
   "cell_type": "code",
   "execution_count": null,
   "id": "5b372fe9-4334-4b3a-843e-8d1533d9a790",
   "metadata": {},
   "outputs": [],
   "source": [
    "print(df)"
   ]
  },
  {
   "cell_type": "markdown",
   "id": "25ccb245-9c58-4540-91c7-d77a8c884f6e",
   "metadata": {},
   "source": [
    "### Inspecionamos o data frame"
   ]
  },
  {
   "cell_type": "code",
   "execution_count": null,
   "id": "ce2cb2a5-3c04-4e85-bd31-d1020b23d482",
   "metadata": {},
   "outputs": [],
   "source": [
    "df.shape"
   ]
  },
  {
   "cell_type": "code",
   "execution_count": null,
   "id": "8c85a2b5-3449-4aba-8b7a-f382e4b6c983",
   "metadata": {},
   "outputs": [],
   "source": [
    "print(df.isnull().sum())"
   ]
  },
  {
   "cell_type": "code",
   "execution_count": null,
   "id": "e2324b12-a172-4ac0-813c-ba121554ba6b",
   "metadata": {},
   "outputs": [],
   "source": [
    "df.isna().sum()"
   ]
  },
  {
   "cell_type": "markdown",
   "id": "2c3346ff-c899-4ddf-8019-f134ffb38b3f",
   "metadata": {},
   "source": [
    "### Limpeza de dados"
   ]
  },
  {
   "cell_type": "markdown",
   "id": "b3a71e7b-4a4f-4e5c-9312-9792cd793b89",
   "metadata": {},
   "source": [
    "**Removemos os registros com dados em branco**"
   ]
  },
  {
   "cell_type": "code",
   "execution_count": null,
   "id": "93e5a5fa-2fd2-4c0d-9b56-a5882e127025",
   "metadata": {},
   "outputs": [],
   "source": [
    "df = df.replace(['', np.nan], np.nan).dropna()\n",
    "df"
   ]
  },
  {
   "cell_type": "markdown",
   "id": "22a12a8b-207d-4f2b-b1a1-d43c6df45f39",
   "metadata": {},
   "source": [
    "**Removemos os dados duplicados**"
   ]
  },
  {
   "cell_type": "code",
   "execution_count": null,
   "id": "eb75b70b-95b4-4741-a652-8eba7b909bdc",
   "metadata": {},
   "outputs": [],
   "source": [
    "df = df.drop_duplicates()\n",
    "df"
   ]
  },
  {
   "cell_type": "markdown",
   "id": "43b9f734-0bf8-4649-af0b-ce6a5b101a54",
   "metadata": {},
   "source": [
    "**Removemos o primeiro item do dataframe**"
   ]
  },
  {
   "cell_type": "code",
   "execution_count": null,
   "id": "8d47e858-51b3-40a1-8911-c7c8e7172a9a",
   "metadata": {},
   "outputs": [],
   "source": [
    "df = df.iloc[1:]\n",
    "df"
   ]
  },
  {
   "cell_type": "markdown",
   "id": "230457cb-7b09-4090-a020-0531999d0fef",
   "metadata": {},
   "source": [
    "**Criamos o dataframe contendo os bens rotulados**"
   ]
  },
  {
   "cell_type": "code",
   "execution_count": null,
   "id": "6a20328b-5072-4fda-b3ec-b9164d4238a4",
   "metadata": {},
   "outputs": [],
   "source": [
    "df_temp = df[~df['Bem'].str.contains('Imóvel', case=False)]\n",
    "df_temp"
   ]
  },
  {
   "cell_type": "markdown",
   "id": "1f88dbcf-9128-4b84-8914-5b2e3dee3665",
   "metadata": {},
   "source": [
    "### Filtramos os bens sem denominação"
   ]
  },
  {
   "cell_type": "code",
   "execution_count": null,
   "id": "926b61c4-d0a6-458b-86a5-4e5bbb172804",
   "metadata": {},
   "outputs": [],
   "source": [
    "df_imovel = df[df['Bem'].str.contains('Imóvel', case=False)]\n",
    "df_imovel"
   ]
  },
  {
   "cell_type": "code",
   "execution_count": null,
   "id": "5fc55463-7902-4996-b91e-b17272d92c5f",
   "metadata": {},
   "outputs": [],
   "source": [
    "df_imovel.shape"
   ]
  },
  {
   "cell_type": "markdown",
   "id": "addd647c-8ca2-44a9-9a61-30fa65426a07",
   "metadata": {},
   "source": [
    "### Manipulamos arquivo PDF com llm"
   ]
  },
  {
   "cell_type": "code",
   "execution_count": null,
   "id": "426a58ba-22b0-4c25-937a-dac6ab6207ec",
   "metadata": {},
   "outputs": [],
   "source": [
    "import os\n",
    "import pandas as pd\n",
    "from groq import Groq\n",
    "from PyPDF2 import PdfReader\n",
    "import tempfile\n",
    "import base64\n",
    "\n",
    "from dotenv import load_dotenv\n",
    "\n",
    "# Carregamos a chave API da Groq\n",
    "load_dotenv()\n",
    "\n",
    "# Configuração inicial\n",
    "GROQ_API_KEY = os.getenv(\"GROQ_API_KEY\")  # Substitua pela sua chave da Groq\n",
    "MODEL_NAME = \"meta-llama/llama-4-maverick-17b-128e-instruct\"  # Ou \"gemini-1.5-pro\" se disponível\n",
    "PDF_PATH = \"bens_tombados_17092021.pdf\"\n",
    "\n",
    "# Função para extrair texto do PDF\n",
    "def extract_text_from_pdf(pdf_path):\n",
    "    text = \"\"\n",
    "    with open(pdf_path, \"rb\") as f:\n",
    "        reader = PdfReader(f)\n",
    "        for page in reader.pages:\n",
    "            text += page.extract_text() + \"\\n\"\n",
    "    return text\n",
    "\n",
    "# Função para processar o texto com o LLM\n",
    "def process_with_groq(text_content):\n",
    "    client = Groq(api_key=GROQ_API_KEY)\n",
    "    \n",
    "    prompt = f\"\"\"\n",
    "    Você é um assistente especializado em extrair dados estruturados de documentos. \n",
    "    Extraia uma tabela com os bens tombados do seguinte texto, com três colunas:\n",
    "    1. id (número sequencial)\n",
    "    2. endereço (se disponível)\n",
    "    3. nome_edificio (descrição do bem tombado)\n",
    "\n",
    "    Formato esperado:\n",
    "    id | endereço | nome_edificio\n",
    "    ---|----------|-------------\n",
    "    1  | Rua X, 123 | Edifício ABC\n",
    "\n",
    "    Texto para análise:\n",
    "    {text_content}\n",
    "    \"\"\"\n",
    "\n",
    "    response = client.chat.completions.create(\n",
    "        messages=[{\"role\": \"user\", \"content\": prompt}],\n",
    "        model=MODEL_NAME,\n",
    "        temperature=0.3\n",
    "    )\n",
    "    \n",
    "    return response.choices[0].message.content\n",
    "\n",
    "# Função para converter a resposta em DataFrame\n",
    "def parse_response_to_df(response_text):\n",
    "    lines = [line.split('|') for line in response_text.strip().split('\\n') if '|' in line]\n",
    "    \n",
    "    # Remover cabeçalho se existir\n",
    "    if 'id' in lines[0][0].lower():\n",
    "        lines = lines[1:]\n",
    "    \n",
    "    data = []\n",
    "    for line in lines:\n",
    "        # Limpar cada campo\n",
    "        cleaned = [item.strip() for item in line]\n",
    "        \n",
    "        # Garantir que temos 3 colunas\n",
    "        if len(cleaned) == 3:\n",
    "            data.append({\n",
    "                'id': cleaned[0],\n",
    "                'endereco': cleaned[1],\n",
    "                'nome_edificio': cleaned[2]\n",
    "            })\n",
    "    \n",
    "    return pd.DataFrame(data)\n",
    "\n",
    "# Fluxo principal\n",
    "def main():\n",
    "    # Extrair texto do PDF\n",
    "    print(\"Extraindo texto do PDF...\")\n",
    "    text_content = extract_text_from_pdf(PDF_PATH)\n",
    "    \n",
    "    # Processar com Groq\n",
    "    print(\"Processando com o modelo LLM...\")\n",
    "    response = process_with_groq(text_content)\n",
    "    \n",
    "    # Converter para DataFrame\n",
    "    print(\"Convertendo para DataFrame...\")\n",
    "    df_funalfa = parse_response_to_df(response)\n",
    "    \n",
    "    # Salvar como CSV\n",
    "    output_path = \"bens_tombados.csv\"\n",
    "    df_funalfa.to_csv(output_path, index=False, encoding='utf-8-sig')\n",
    "    print(f\"Dados salvos em {output_path}\")\n",
    "    \n",
    "    # Mostrar preview\n",
    "    print(\"\\nPreview dos dados:\")\n",
    "    print(df_funalfa.head())\n",
    "\n",
    "if __name__ == \"__main__\":\n",
    "    main()"
   ]
  },
  {
   "cell_type": "markdown",
   "id": "568fe67f-76ec-4aad-b269-df7c9bd1a880",
   "metadata": {},
   "source": [
    "### Extraímos uma amostra do data frame"
   ]
  },
  {
   "cell_type": "code",
   "execution_count": null,
   "id": "3b9f6323-5ae1-4a35-b3c0-8d8583eb5092",
   "metadata": {},
   "outputs": [],
   "source": [
    "df_tombados = pd.read_csv(\"bens_tombados.csv\")\n",
    "df_tombados"
   ]
  },
  {
   "cell_type": "markdown",
   "id": "fdcad449-c2c4-487d-bdba-70bc7e8c88e1",
   "metadata": {},
   "source": [
    "### Removemos os registros em branco"
   ]
  },
  {
   "cell_type": "code",
   "execution_count": null,
   "id": "7ef86d1b-56fd-4a37-b41d-112022d57115",
   "metadata": {},
   "outputs": [],
   "source": [
    "df_tombados_filtrado = df_tombados.dropna()\n",
    "df_tombados_filtrado"
   ]
  },
  {
   "cell_type": "markdown",
   "id": "7cecc0f8-8223-424c-86ac-de6fe9e5f656",
   "metadata": {},
   "source": [
    "### Atribuimos nomes aos registros inomimados"
   ]
  },
  {
   "cell_type": "code",
   "execution_count": null,
   "id": "eb581d87-cbb5-4022-a0d9-e2c5833bacd8",
   "metadata": {},
   "outputs": [],
   "source": [
    "import pandas as pd\n",
    "import re\n",
    "from thefuzz import fuzz, process\n",
    "\n",
    "# Configuração do fuzzy matching\n",
    "LIMITE_SIMILARIDADE = 85  # Ajuste conforme necessidade (0-100)\n",
    "\n",
    "def padronizar_endereco(endereco):\n",
    "    # Remover termos irrelevantes e padronizar\n",
    "    endereco = re.sub(r'(Imóvel à |nº ?|,|\\.)', '', str(endereco))\n",
    "    endereco = re.sub(r'\\s+', ' ', endereco).strip().lower()\n",
    "    \n",
    "    # Padronizar variações comuns\n",
    "    substituicoes = {\n",
    "        'av ': 'avenida ',\n",
    "        'av. ': 'avenida ',\n",
    "        'r ': 'rua ',\n",
    "        'pc ': 'praça ',\n",
    "        'estr ': 'estrada '\n",
    "    }\n",
    "    for orig, subst in substituicoes.items():\n",
    "        endereco = endereco.replace(orig, subst)\n",
    "    \n",
    "    return endereco\n",
    "\n",
    "def encontrar_melhor_match(endereco_alvo, opcoes):\n",
    "    # Padronizar o endereço alvo\n",
    "    endereco_alvo_padrao = padronizar_endereco(endereco_alvo)\n",
    "    \n",
    "    # Padronizar todas as opções de referência\n",
    "    opcoes_padrao = [padronizar_endereco(op) for op in opcoes]\n",
    "    \n",
    "    # Usar fuzzywuzzy para encontrar a melhor correspondência\n",
    "    melhor_match, score = process.extractOne(\n",
    "        endereco_alvo_padrao,\n",
    "        opcoes_padrao,\n",
    "        scorer=fuzz.token_set_ratio\n",
    "    )\n",
    "    \n",
    "    # Retornar o endereço original (não padronizado) se atender ao limite\n",
    "    if score >= LIMITE_SIMILARIDADE:\n",
    "        return opcoes[opcoes_padrao.index(melhor_match)]\n",
    "    return None\n",
    "\n",
    "def atualizar_com_fuzzy_matching(df, df_imovel):\n",
    "    # Criar cópia explícita para evitar SettingWithCopyWarning\n",
    "    df_imovel_clean = df_imovel.copy()\n",
    "    \n",
    "    # Criar lista de endereços de referência\n",
    "    enderecos_referencia = df['endereco'].dropna().unique()\n",
    "    \n",
    "    # Criar coluna temporária para os matches\n",
    "    df_imovel_clean['match_encontrado'] = None\n",
    "    \n",
    "    # Para cada endereço em df_imovel, encontrar o melhor match\n",
    "    for idx, row in df_imovel_clean.iterrows():\n",
    "        endereco_imovel = row['Bem']\n",
    "        melhor_match = encontrar_melhor_match(endereco_imovel, enderecos_referencia)\n",
    "        \n",
    "        if melhor_match:\n",
    "            # Encontrar o nome do edifício correspondente\n",
    "            nome_edificio = df.loc[df['endereco'] == melhor_match, 'nome_edificio'].values[0]\n",
    "            df_imovel_clean.at[idx, 'match_encontrado'] = nome_edificio\n",
    "    \n",
    "    # Atualizar a coluna 'Bem' onde encontramos matches\n",
    "    df_imovel_clean['Bem'] = df_imovel_clean.apply(\n",
    "        lambda x: x['match_encontrado'] if pd.notna(x['match_encontrado']) else x['Bem'],\n",
    "        axis=1\n",
    "    )\n",
    "    \n",
    "    # Remover coluna temporária\n",
    "    df_imovel_clean.drop(columns=['match_encontrado'], inplace=True)\n",
    "    \n",
    "    return df_imovel_clean\n",
    "\n",
    "# Exemplo de uso:\n",
    "df_funalfa = df_tombados_filtrado.copy()\n",
    "\n",
    "\n",
    "# Aplicar a atualização com fuzzy matching\n",
    "df_imovel_atualizado = atualizar_com_fuzzy_matching(df_funalfa, df_imovel_clean)\n",
    "\n",
    "# Mostrar resultados\n",
    "print(\"\\nResultado da atualização:\")\n",
    "print(df_imovel_atualizado)\n",
    "\n",
    "# Salvar resultado\n",
    "df_imovel_atualizado.to_csv('imoveis_atualizados_fuzzy.csv', index=False, encoding='utf-8-sig')"
   ]
  },
  {
   "cell_type": "markdown",
   "id": "a6c380eb-b0d7-421d-ab6f-1f969ee1b9ae",
   "metadata": {},
   "source": [
    "### Removemos os bens que não foram atualizados"
   ]
  },
  {
   "cell_type": "code",
   "execution_count": null,
   "id": "dcf6f4d3-e2d9-4da7-a8f2-e312e697fd10",
   "metadata": {},
   "outputs": [],
   "source": [
    "df_imovel_nomeado = df_imovel_atualizado[~df_imovel_atualizado['Bem'].str.contains('Imóvel', case=False)]\n",
    "df_imovel_nomeado"
   ]
  },
  {
   "cell_type": "markdown",
   "id": "d7c97bfe-ef16-4d35-8c99-6d6a94ade091",
   "metadata": {},
   "source": [
    "### Removemos os bens duplicados"
   ]
  },
  {
   "cell_type": "code",
   "execution_count": null,
   "id": "fdb8c0cd-7f0f-4e17-8474-3630b2b54e09",
   "metadata": {},
   "outputs": [],
   "source": [
    "df_imovel_nomeado = df_imovel_nomeado.iloc[:-1]\n",
    "df_bens = pd.concat([df_temp, df_imovel_nomeado], axis=0)\n",
    "df_bens\n"
   ]
  },
  {
   "cell_type": "code",
   "execution_count": null,
   "id": "0803f71c-8ca5-4531-a416-5aaa74415e62",
   "metadata": {},
   "outputs": [],
   "source": [
    "df_temp.shape"
   ]
  },
  {
   "cell_type": "code",
   "execution_count": null,
   "id": "040cee7f-68c2-4edf-be2e-a12ba043edb0",
   "metadata": {},
   "outputs": [],
   "source": [
    "df_imovel_nomeado.shape"
   ]
  },
  {
   "cell_type": "code",
   "execution_count": null,
   "id": "7d2b0f99-e12d-4704-9ce0-ebd75d8c9398",
   "metadata": {},
   "outputs": [],
   "source": [
    "bens = df_bens.to_dict('records')"
   ]
  },
  {
   "cell_type": "markdown",
   "id": "ca08128a-acba-4a8d-afc1-4d510c5e65b9",
   "metadata": {},
   "source": [
    "### Visualizamos os bens tombados em um mapa interativo"
   ]
  },
  {
   "cell_type": "code",
   "execution_count": null,
   "id": "8fda445f-d284-4644-ac29-fed881e73973",
   "metadata": {},
   "outputs": [],
   "source": [
    "\n",
    "\n",
    "if not bens:\n",
    "    print(\"Nenhum bem foi extraído. Verifique a estrutura da tabela na página.\")\n",
    "else:\n",
    "    # Criar mapa base centrado em Juiz de Fora\n",
    "    museu_mapa = folium.Map(location=[-21.7625, -43.35], zoom_start=13)\n",
    "\n",
    "    # Estrutura GeoJSON para armazenar os bens (apenas para busca)\n",
    "    obras_geojson = {\n",
    "        \"type\": \"FeatureCollection\",\n",
    "        \"features\": []\n",
    "    }\n",
    "\n",
    "    # Criar FeatureGroup para os marcadores visíveis\n",
    "    bens_group = folium.FeatureGroup(name=\"Bens Tombados\", show=True)\n",
    "\n",
    "    # Preencher o GeoJSON e adicionar marcadores visíveis\n",
    "    for item in bens:\n",
    "        nome = item['Bem']\n",
    "        lat = item['Latitude']\n",
    "        lon = item['Longitude']\n",
    "\n",
    "        if lat is not None and lon is not None:\n",
    "            # Adicionar ao GeoJSON (para busca)\n",
    "            obras_geojson[\"features\"].append({\n",
    "                \"type\": \"Feature\",\n",
    "                \"properties\": {\"nome\": nome},\n",
    "                \"geometry\": {\n",
    "                    \"type\": \"Point\",\n",
    "                    \"coordinates\": [lon, lat]\n",
    "                }\n",
    "            })\n",
    "\n",
    "            # Adicionar marcador visível ao FeatureGroup\n",
    "            folium.Marker(\n",
    "                location=[lat, lon],\n",
    "                popup=nome,\n",
    "                icon=folium.Icon(color=\"orange\", icon=\"monument\", prefix=\"fa\")\n",
    "            ).add_to(bens_group)\n",
    "\n",
    "    # Adicionar o FeatureGroup ao mapa\n",
    "    bens_group.add_to(museu_mapa)\n",
    "\n",
    "    # Criar camada GeoJSON oculta apenas para busca\n",
    "    geojson_layer = folium.GeoJson(\n",
    "        obras_geojson,\n",
    "        name=\"GeoJSON Busca\",\n",
    "        style_function=lambda x: {\n",
    "            'fillOpacity': 0,  # Totalmente transparente\n",
    "            'opacity': 0,      # Totalmente transparente\n",
    "            'radius': 0        # Tamanho zero\n",
    "        },\n",
    "        marker=folium.Circle(radius=0),  # Marcador invisível\n",
    "        control=False  # Não aparece no controle de camadas\n",
    "    ).add_to(museu_mapa)\n",
    "\n",
    "    # Configurar o plugin de busca na camada GeoJSON oculta\n",
    "    search_plugin = Search(\n",
    "        layer=geojson_layer,\n",
    "        search_label=\"nome\",\n",
    "        placeholder=\"Buscar obra...\",\n",
    "        collapsed=False,\n",
    "        position='topleft'\n",
    "    ).add_to(museu_mapa)\n",
    "\n",
    "    # Adicionar controle de camadas\n",
    "    folium.LayerControl().add_to(museu_mapa)\n",
    "\n",
    "    # Salvar mapa\n",
    "    museu_mapa.save(\"mapa_bens_tombados_jf.html\")\n",
    "    print(\"Mapa salvo como 'mapa_bens_tombados_jf.html'\")"
   ]
  },
  {
   "cell_type": "markdown",
   "id": "1d886fe6-40de-4f2f-9f63-3a80440c71b3",
   "metadata": {},
   "source": [
    "### Agrupamos os bens tombados"
   ]
  },
  {
   "cell_type": "code",
   "execution_count": null,
   "id": "6e7da073-d164-4a93-99e8-0c0cb3031db0",
   "metadata": {},
   "outputs": [],
   "source": [
    "\n",
    "if not bens:\n",
    "    print(\"Nenhum bem foi extraído. Verifique a estrutura da tabela na página.\")\n",
    "else:\n",
    "    # Criar mapa base centrado em Juiz de Fora\n",
    "    museu_mapa = folium.Map(location=[-21.7625, -43.35], zoom_start=13)\n",
    "\n",
    "    # Criar um MarkerCluster para agrupar os marcadores\n",
    "    marker_cluster = MarkerCluster(\n",
    "        name=\"Bens Tombados\",\n",
    "        overlay=True,\n",
    "        control=True,\n",
    "        options={'maxClusterRadius': 40}\n",
    "    ).add_to(museu_mapa)\n",
    "\n",
    "    # Estrutura GeoJSON para armazenar os bens (apenas para busca)\n",
    "    obras_geojson = {\n",
    "        \"type\": \"FeatureCollection\",\n",
    "        \"features\": []\n",
    "    }\n",
    "\n",
    "    # Preencher o GeoJSON e adicionar marcadores ao cluster\n",
    "    for item in bens:\n",
    "        nome = item['Bem']\n",
    "        lat = item['Latitude']\n",
    "        lon = item['Longitude']\n",
    "\n",
    "        if lat is not None and lon is not None:\n",
    "            # Adicionar ao GeoJSON (para busca)\n",
    "            obras_geojson[\"features\"].append({\n",
    "                \"type\": \"Feature\",\n",
    "                \"properties\": {\"nome\": nome},\n",
    "                \"geometry\": {\n",
    "                    \"type\": \"Point\",\n",
    "                    \"coordinates\": [lon, lat]\n",
    "                }\n",
    "            })\n",
    "\n",
    "            # Adicionar marcador ao cluster\n",
    "            folium.Marker(\n",
    "                location=[lat, lon],\n",
    "                popup=nome,\n",
    "                icon=folium.Icon(color=\"orange\", icon=\"monument\", prefix=\"fa\")\n",
    "            ).add_to(marker_cluster)\n",
    "\n",
    "    # Criar camada GeoJSON oculta apenas para busca\n",
    "    geojson_layer = folium.GeoJson(\n",
    "        obras_geojson,\n",
    "        name=\"GeoJSON Busca\",\n",
    "        style_function=lambda x: {\n",
    "            'fillOpacity': 0,  # Totalmente transparente\n",
    "            'opacity': 0,      # Totalmente transparente\n",
    "            'radius': 0        # Tamanho zero\n",
    "        },\n",
    "        marker=folium.Circle(radius=0),  # Marcador invisível\n",
    "        control=False  # Não aparece no controle de camadas\n",
    "    ).add_to(museu_mapa)\n",
    "\n",
    "    # Configurar o plugin de busca na camada GeoJSON oculta\n",
    "    search_plugin = Search(\n",
    "        layer=geojson_layer,\n",
    "        search_label=\"nome\",\n",
    "        placeholder=\"Buscar obra...\",\n",
    "        collapsed=False,\n",
    "        position='topleft'\n",
    "    ).add_to(museu_mapa)\n",
    "\n",
    "    # Adicionar controle de camadas\n",
    "    folium.LayerControl().add_to(museu_mapa)\n",
    "\n",
    "    # Salvar mapa\n",
    "    museu_mapa.save(\"cluster_bens_tombados_jf.html\")\n",
    "    print(\"Mapa salvo como 'cluster_bens_tombados_jf.html'\")"
   ]
  },
  {
   "cell_type": "markdown",
   "id": "18a9ff10-4124-4159-9a55-4a0764e5bba3",
   "metadata": {},
   "source": [
    "### Filtramos os pontos dentro do polígono de Juiz de Fora"
   ]
  },
  {
   "cell_type": "code",
   "execution_count": null,
   "id": "ca5ab45b-ca91-4373-a4aa-f3af2d1ec6db",
   "metadata": {},
   "outputs": [],
   "source": [
    "# Obter os limites de Juiz de Fora\n",
    "place = 'Juiz de Fora, MG, Brasil'\n",
    "gdf = ox.geocoder.geocode_to_gdf(place)\n",
    "\n",
    "# Extrair as coordenadas da bounding box (bbox)\n",
    "bbox = gdf.iloc[0][['bbox_west', 'bbox_south', 'bbox_east', 'bbox_north']].values\n",
    "\n",
    "# Criar o dicionário no formato desejado\n",
    "JF_BOUNDS = {\n",
    "    'min_lat': float(bbox[1]),  # bbox_south\n",
    "    'max_lat': float(bbox[3]),  # bbox_north\n",
    "    'min_lon': float(bbox[0]),  # bbox_west\n",
    "    'max_lon': float(bbox[2])   # bbox_east\n",
    "}\n",
    "\n",
    "def dentro_dos_limites(lat, lon):\n",
    "    return (JF_BOUNDS['min_lat'] <= lat <= JF_BOUNDS['max_lat'] and\n",
    "            JF_BOUNDS['min_lon'] <= lon <= JF_BOUNDS['max_lon'])\n",
    "\n",
    "\n",
    "if not bens:\n",
    "    print(\"Nenhum bem foi extraído. Verifique a estrutura da tabela na página.\")\n",
    "else:\n",
    "    # Filtrar bens que estão dentro dos limites de JF\n",
    "    bens_filtrados = [item for item in bens \n",
    "                     if item['Latitude'] is not None \n",
    "                     and item['Longitude'] is not None\n",
    "                     and dentro_dos_limites(item['Latitude'], item['Longitude'])]\n",
    "    \n",
    "    # Criar mapa base centrado em Juiz de Fora\n",
    "    museu_mapa = folium.Map(location=[-21.7625, -43.35], zoom_start=13)\n",
    "\n",
    "    # Criar um MarkerCluster para agrupar os marcadores\n",
    "    marker_cluster = MarkerCluster(\n",
    "        name=\"Bens Tombados\",\n",
    "        overlay=True,\n",
    "        control=True,\n",
    "        options={'maxClusterRadius': 40}\n",
    "    ).add_to(museu_mapa)\n",
    "\n",
    "    # Estrutura GeoJSON para armazenar os bens (apenas para busca)\n",
    "    obras_geojson = {\n",
    "        \"type\": \"FeatureCollection\",\n",
    "        \"features\": []\n",
    "    }\n",
    "\n",
    "    # Preencher o GeoJSON e adicionar marcadores ao cluster\n",
    "    for item in bens_filtrados:\n",
    "        nome = item['Bem']\n",
    "        lat = item['Latitude']\n",
    "        lon = item['Longitude']\n",
    "\n",
    "        # Adicionar ao GeoJSON (para busca)\n",
    "        obras_geojson[\"features\"].append({\n",
    "            \"type\": \"Feature\",\n",
    "            \"properties\": {\"nome\": nome},\n",
    "            \"geometry\": {\n",
    "                \"type\": \"Point\",\n",
    "                \"coordinates\": [lon, lat]\n",
    "            }\n",
    "        })\n",
    "\n",
    "        # Adicionar marcador ao cluster\n",
    "        folium.Marker(\n",
    "            location=[lat, lon],\n",
    "            popup=nome,\n",
    "            icon=folium.Icon(color=\"orange\", icon=\"monument\", prefix=\"fa\")\n",
    "        ).add_to(marker_cluster)\n",
    "\n",
    "    # Criar camada GeoJSON oculta apenas para busca\n",
    "    geojson_layer = folium.GeoJson(\n",
    "        obras_geojson,\n",
    "        name=\"GeoJSON Busca\",\n",
    "        style_function=lambda x: {\n",
    "            'fillOpacity': 0,\n",
    "            'opacity': 0,\n",
    "            'radius': 0\n",
    "        },\n",
    "        marker=folium.Circle(radius=0),\n",
    "        control=False\n",
    "    ).add_to(museu_mapa)\n",
    "\n",
    "    # Configurar o plugin de busca\n",
    "    search_plugin = Search(\n",
    "        layer=geojson_layer,\n",
    "        search_label=\"nome\",\n",
    "        placeholder=\"Buscar obra...\",\n",
    "        collapsed=False,\n",
    "        position='topleft'\n",
    "    ).add_to(museu_mapa)\n",
    "\n",
    "    # Adicionar controle de camadas\n",
    "    folium.LayerControl().add_to(museu_mapa)\n",
    "\n",
    "    # Salvar mapa\n",
    "    museu_mapa.save(\"cluster_bens_tombados_jf_1.html\")\n",
    "    print(f\"Mapa salvo com {len(bens_filtrados)} bens tombados dentro dos limites de JF\")"
   ]
  },
  {
   "cell_type": "code",
   "execution_count": null,
   "id": "622c7d41-b073-4ed8-be55-bb29793e04e2",
   "metadata": {},
   "outputs": [],
   "source": []
  }
 ],
 "metadata": {
  "kernelspec": {
   "display_name": "Python 3 (ipykernel)",
   "language": "python",
   "name": "python3"
  },
  "language_info": {
   "codemirror_mode": {
    "name": "ipython",
    "version": 3
   },
   "file_extension": ".py",
   "mimetype": "text/x-python",
   "name": "python",
   "nbconvert_exporter": "python",
   "pygments_lexer": "ipython3",
   "version": "3.12.3"
  }
 },
 "nbformat": 4,
 "nbformat_minor": 5
}
