{
 "cells": [
  {
   "cell_type": "markdown",
   "id": "76e3e982-6efe-4caa-ae28-a6da5db08e71",
   "metadata": {},
   "source": [
    "# Patrimônio histórico de Juiz de Fora"
   ]
  },
  {
   "cell_type": "markdown",
   "id": "0d885cac-0f98-4129-82ee-e5834d3507cb",
   "metadata": {},
   "source": [
    "Para mapeamento do patrimônio histórico de Juiz de Fora, considerando os bens tombados, realizamos o download de tabela existente na Wikipedia, com o auxílio de bibliotecas do Python."
   ]
  },
  {
   "cell_type": "markdown",
   "id": "ad039b0a-d077-49e8-88eb-5031dc14f07d",
   "metadata": {},
   "source": [
    "### Importamos as bibliotecas"
   ]
  },
  {
   "cell_type": "code",
   "execution_count": 50,
   "id": "bea97f41-f558-4bdc-839a-c501f9a92b76",
   "metadata": {},
   "outputs": [],
   "source": [
    "import numpy as np\n",
    "import pandas as pd\n",
    "import osmnx as ox\n",
    "import requests\n",
    "from bs4 import BeautifulSoup\n",
    "import os\n",
    "from groq import Groq\n",
    "from PyPDF2 import PdfReader\n",
    "import tempfile\n",
    "import base64\n",
    "import re\n",
    "from thefuzz import fuzz, process\n",
    "import folium\n",
    "from folium.plugins import Search, MarkerCluster \n",
    "import json\n",
    "\n",
    "from dotenv import load_dotenv"
   ]
  },
  {
   "cell_type": "markdown",
   "id": "df286872-1c13-4d0e-97a6-3f502feae2c6",
   "metadata": {},
   "source": [
    "### Baixamos a lista"
   ]
  },
  {
   "cell_type": "code",
   "execution_count": 27,
   "id": "3242f221-e003-4acf-96d8-3b6ba4632a46",
   "metadata": {},
   "outputs": [],
   "source": [
    "def extrair_bens_tombados():\n",
    "    url = \"https://pt.wikipedia.org/wiki/Lista_de_bens_tombados_em_Juiz_de_Fora\" \n",
    "    response = requests.get(url)\n",
    "    soup = BeautifulSoup(response.text, 'html.parser')\n",
    "\n",
    "    table = soup.find('table', {'class': 'wikitable'})\n",
    "    bens_list = []\n",
    "\n",
    "    for row in table.find_all('tr')[1:]:\n",
    "        cols = row.find_all(['td', 'th'])\n",
    "        if len(cols) >= 5:\n",
    "            nome_bem = cols[1].get_text(strip=True)\n",
    "            coord_texto = cols[3].get_text(strip=True)\n",
    "\n",
    "            try:\n",
    "                lat, lon = extrair_coordenadas(coord_texto)\n",
    "                if lat is not None and lon is not None:\n",
    "                    bens_list.append({\n",
    "                        'Bem': nome_bem,\n",
    "                        'Latitude': lat,\n",
    "                        'Longitude': lon\n",
    "                    })\n",
    "            except Exception as e:\n",
    "                print(f\"Erro ao processar linha: {e}\")\n",
    "                continue\n",
    "\n",
    "    return bens_list\n",
    "\n",
    "def extrair_coordenadas(texto):\n",
    "    if not texto.strip():\n",
    "        return None, None\n",
    "\n",
    "    try:\n",
    "        partes = texto.split(',')\n",
    "        if len(partes) < 2:\n",
    "            return None, None\n",
    "\n",
    "        lat_str = partes[0].strip()\n",
    "        lon_str = partes[1].strip()\n",
    "\n",
    "        def dms_para_decimal(dms):\n",
    "            dms = dms.replace('°', ' ').replace('′', ' ').replace('″', '').strip()\n",
    "            graus, minutos, segundos = map(float, dms.split()[:3])\n",
    "            direcao = dms.split()[-1]\n",
    "\n",
    "            decimal = abs(graus) + minutos / 60 + segundos / 3600\n",
    "            if direcao in ['S', 'O']:\n",
    "                decimal *= -1\n",
    "\n",
    "            return decimal\n",
    "\n",
    "        lat = dms_para_decimal(lat_str)\n",
    "        lon = dms_para_decimal(lon_str)\n",
    "\n",
    "        return lat, lon\n",
    "    except Exception as e:\n",
    "        print(f\"Erro ao processar coordenada: {texto} - {e}\")\n",
    "        return None, None\n",
    "\n",
    "# Extração dos dados\n",
    "bens = extrair_bens_tombados()\n"
   ]
  },
  {
   "cell_type": "markdown",
   "id": "3d16fe6c-8daf-4e78-829d-9b0d98e068c0",
   "metadata": {},
   "source": [
    "### Convertemos a lista em data frame"
   ]
  },
  {
   "cell_type": "code",
   "execution_count": 28,
   "id": "152c483d-dd9b-4b26-83ed-86c271674946",
   "metadata": {},
   "outputs": [],
   "source": [
    "df = pd.DataFrame(bens)\n",
    "df.to_csv(\"bens_tombados_jf.csv\", index=False, sep=\";\", encoding=\"utf-8\")"
   ]
  },
  {
   "cell_type": "markdown",
   "id": "25ccb245-9c58-4540-91c7-d77a8c884f6e",
   "metadata": {},
   "source": [
    "### Inspecionamos o data frame"
   ]
  },
  {
   "cell_type": "code",
   "execution_count": 29,
   "id": "5b372fe9-4334-4b3a-843e-8d1533d9a790",
   "metadata": {},
   "outputs": [
    {
     "name": "stdout",
     "output_type": "stream",
     "text": [
      "                                                 Bem   Latitude  Longitude\n",
      "0  Acervo documental do \"Fundo Câmara Municipal d... -21.755278 -43.344167\n",
      "1                                   Agência Bradesco -21.761111 -43.348056\n",
      "2                                   Agência Bradesco -21.761111 -43.348056\n",
      "3                                     Alfândega Seca -21.761389 -43.343056\n",
      "4                  Antiga Diretoria de Higiene – DCE -21.758611 -43.348889\n"
     ]
    }
   ],
   "source": [
    "print(df.head())"
   ]
  },
  {
   "cell_type": "code",
   "execution_count": 30,
   "id": "ce2cb2a5-3c04-4e85-bd31-d1020b23d482",
   "metadata": {},
   "outputs": [
    {
     "data": {
      "text/plain": [
       "(140, 3)"
      ]
     },
     "execution_count": 30,
     "metadata": {},
     "output_type": "execute_result"
    }
   ],
   "source": [
    "df.shape"
   ]
  },
  {
   "cell_type": "code",
   "execution_count": 31,
   "id": "8c85a2b5-3449-4aba-8b7a-f382e4b6c983",
   "metadata": {},
   "outputs": [
    {
     "name": "stdout",
     "output_type": "stream",
     "text": [
      "Bem          0\n",
      "Latitude     0\n",
      "Longitude    0\n",
      "dtype: int64\n"
     ]
    }
   ],
   "source": [
    "print(df.isnull().sum())"
   ]
  },
  {
   "cell_type": "code",
   "execution_count": 32,
   "id": "e2324b12-a172-4ac0-813c-ba121554ba6b",
   "metadata": {},
   "outputs": [
    {
     "data": {
      "text/plain": [
       "Bem          0\n",
       "Latitude     0\n",
       "Longitude    0\n",
       "dtype: int64"
      ]
     },
     "execution_count": 32,
     "metadata": {},
     "output_type": "execute_result"
    }
   ],
   "source": [
    "df.isna().sum()"
   ]
  },
  {
   "cell_type": "markdown",
   "id": "2c3346ff-c899-4ddf-8019-f134ffb38b3f",
   "metadata": {},
   "source": [
    "### Limpeza de dados"
   ]
  },
  {
   "cell_type": "code",
   "execution_count": 33,
   "id": "93e5a5fa-2fd2-4c0d-9b56-a5882e127025",
   "metadata": {},
   "outputs": [
    {
     "name": "stdout",
     "output_type": "stream",
     "text": [
      "                                                 Bem   Latitude  Longitude\n",
      "0  Acervo documental do \"Fundo Câmara Municipal d... -21.755278 -43.344167\n",
      "1                                   Agência Bradesco -21.761111 -43.348056\n",
      "2                                   Agência Bradesco -21.761111 -43.348056\n",
      "3                                     Alfândega Seca -21.761389 -43.343056\n",
      "4                  Antiga Diretoria de Higiene – DCE -21.758611 -43.348889\n"
     ]
    }
   ],
   "source": [
    "df = df.replace(['', np.nan], np.nan).dropna()\n",
    "print(df.head())"
   ]
  },
  {
   "cell_type": "code",
   "execution_count": 34,
   "id": "eb75b70b-95b4-4741-a652-8eba7b909bdc",
   "metadata": {},
   "outputs": [
    {
     "name": "stdout",
     "output_type": "stream",
     "text": [
      "                                                 Bem   Latitude  Longitude\n",
      "0  Acervo documental do \"Fundo Câmara Municipal d... -21.755278 -43.344167\n",
      "1                                   Agência Bradesco -21.761111 -43.348056\n",
      "3                                     Alfândega Seca -21.761389 -43.343056\n",
      "4                  Antiga Diretoria de Higiene – DCE -21.758611 -43.348889\n",
      "5    Antiga Estação Ferroviária da Central do Brasil -22.903611 -43.191111\n"
     ]
    }
   ],
   "source": [
    "df = df.drop_duplicates()\n",
    "print(df.head())"
   ]
  },
  {
   "cell_type": "code",
   "execution_count": 35,
   "id": "8d47e858-51b3-40a1-8911-c7c8e7172a9a",
   "metadata": {},
   "outputs": [
    {
     "name": "stdout",
     "output_type": "stream",
     "text": [
      "                                               Bem   Latitude  Longitude\n",
      "1                                 Agência Bradesco -21.761111 -43.348056\n",
      "3                                   Alfândega Seca -21.761389 -43.343056\n",
      "4                Antiga Diretoria de Higiene – DCE -21.758611 -43.348889\n",
      "5  Antiga Estação Ferroviária da Central do Brasil -22.903611 -43.191111\n",
      "6      Antiga Estação Ferroviária de Santos Dumont -21.455833 -43.549722\n"
     ]
    }
   ],
   "source": [
    "df = df.iloc[1:]\n",
    "print(df.head())"
   ]
  },
  {
   "cell_type": "code",
   "execution_count": 36,
   "id": "6a20328b-5072-4fda-b3ec-b9164d4238a4",
   "metadata": {},
   "outputs": [
    {
     "name": "stdout",
     "output_type": "stream",
     "text": [
      "                                               Bem   Latitude  Longitude\n",
      "1                                 Agência Bradesco -21.761111 -43.348056\n",
      "3                                   Alfândega Seca -21.761389 -43.343056\n",
      "4                Antiga Diretoria de Higiene – DCE -21.758611 -43.348889\n",
      "5  Antiga Estação Ferroviária da Central do Brasil -22.903611 -43.191111\n",
      "6      Antiga Estação Ferroviária de Santos Dumont -21.455833 -43.549722\n"
     ]
    }
   ],
   "source": [
    "df_temp = df[~df['Bem'].str.contains('Imóvel', case=False)]\n",
    "print(df_temp.head())"
   ]
  },
  {
   "cell_type": "markdown",
   "id": "1f88dbcf-9128-4b84-8914-5b2e3dee3665",
   "metadata": {},
   "source": [
    "### Filtramos os bens com denominação genérica"
   ]
  },
  {
   "cell_type": "code",
   "execution_count": 37,
   "id": "926b61c4-d0a6-458b-86a5-4e5bbb172804",
   "metadata": {},
   "outputs": [
    {
     "name": "stdout",
     "output_type": "stream",
     "text": [
      "                                              Bem   Latitude  Longitude\n",
      "60  Imóvel à Avenida Barão do Rio Branco, nº 3029 -21.768333 -43.347222\n",
      "61  Imóvel à Avenida Barão do Rio Branco, nº 3146 -21.769722 -43.347778\n",
      "62  Imóvel à Avenida Barão do Rio Branco, nº 3263 -21.770556 -43.346944\n",
      "63  Imóvel à Avenida Barão do Rio Branco, nº 3408 -21.771944 -43.347222\n",
      "64               Imóvel à Avenida Brasil, nº 2001 -21.758889 -43.343889\n"
     ]
    }
   ],
   "source": [
    "df_imovel = df[df['Bem'].str.contains('Imóvel', case=False)]\n",
    "print(df_imovel.head())"
   ]
  },
  {
   "cell_type": "markdown",
   "id": "addd647c-8ca2-44a9-9a61-30fa65426a07",
   "metadata": {},
   "source": [
    "### Manipulamos arquivo PDF com modelo llm"
   ]
  },
  {
   "cell_type": "code",
   "execution_count": 38,
   "id": "426a58ba-22b0-4c25-937a-dac6ab6207ec",
   "metadata": {},
   "outputs": [
    {
     "name": "stdout",
     "output_type": "stream",
     "text": [
      "Extraindo texto do PDF...\n",
      "Processando com o modelo LLM...\n",
      "Convertendo para DataFrame...\n",
      "Dados salvos em bens_tombados.csv\n",
      "\n",
      "Preview dos dados:\n",
      "    id                                     endereco  \\\n",
      "0  ---                                   ----------   \n",
      "1    1                             Rua Halfeld, s/n   \n",
      "2    2                   Praça Dr. João Pessoa, s/n   \n",
      "3    3                           Parque e Acervo do   \n",
      "4    4  Rua Espírito Santo, 467 e Usina de Marmelos   \n",
      "\n",
      "                                       nome_edificio  \n",
      "0                                      -------------  \n",
      "1   Edifício do antigo Fórum, atual Câmara Municipal  \n",
      "2                               Cine Theatro Central  \n",
      "3                             Museu Mariano Procópio  \n",
      "4  Remanescentes das antigas instalações da Cia. ...  \n"
     ]
    }
   ],
   "source": [
    "# Carregamos a chave API da Groq\n",
    "load_dotenv()\n",
    "\n",
    "# Configuração inicial\n",
    "GROQ_API_KEY = os.getenv(\"GROQ_API_KEY\")  # Substitua pela sua chave da Groq\n",
    "MODEL_NAME = \"meta-llama/llama-4-maverick-17b-128e-instruct\"  # Ou \"gemini-1.5-pro\" se disponível\n",
    "PDF_PATH = \"bens_tombados_17092021.pdf\"\n",
    "\n",
    "# Função para extrair texto do PDF\n",
    "def extract_text_from_pdf(pdf_path):\n",
    "    text = \"\"\n",
    "    with open(pdf_path, \"rb\") as f:\n",
    "        reader = PdfReader(f)\n",
    "        for page in reader.pages:\n",
    "            text += page.extract_text() + \"\\n\"\n",
    "    return text\n",
    "\n",
    "# Função para processar o texto com o LLM\n",
    "def process_with_groq(text_content):\n",
    "    client = Groq(api_key=GROQ_API_KEY)\n",
    "    \n",
    "    prompt = f\"\"\"\n",
    "    Você é um assistente especializado em extrair dados estruturados de documentos. \n",
    "    Extraia uma tabela com os bens tombados do seguinte texto, com três colunas:\n",
    "    1. id (número sequencial)\n",
    "    2. endereço (se disponível)\n",
    "    3. nome_edificio (descrição do bem tombado)\n",
    "\n",
    "    Formato esperado:\n",
    "    id | endereço | nome_edificio\n",
    "    ---|----------|-------------\n",
    "    1  | Rua X, 123 | Edifício ABC\n",
    "\n",
    "    Texto para análise:\n",
    "    {text_content}\n",
    "    \"\"\"\n",
    "\n",
    "    response = client.chat.completions.create(\n",
    "        messages=[{\"role\": \"user\", \"content\": prompt}],\n",
    "        model=MODEL_NAME,\n",
    "        temperature=0.3\n",
    "    )\n",
    "    \n",
    "    return response.choices[0].message.content\n",
    "\n",
    "# Função para converter a resposta em DataFrame\n",
    "def parse_response_to_df(response_text):\n",
    "    lines = [line.split('|') for line in response_text.strip().split('\\n') if '|' in line]\n",
    "    \n",
    "    # Remover cabeçalho se existir\n",
    "    if 'id' in lines[0][0].lower():\n",
    "        lines = lines[1:]\n",
    "    \n",
    "    data = []\n",
    "    for line in lines:\n",
    "        # Limpar cada campo\n",
    "        cleaned = [item.strip() for item in line]\n",
    "        \n",
    "        # Garantir que temos 3 colunas\n",
    "        if len(cleaned) == 3:\n",
    "            data.append({\n",
    "                'id': cleaned[0],\n",
    "                'endereco': cleaned[1],\n",
    "                'nome_edificio': cleaned[2]\n",
    "            })\n",
    "    \n",
    "    return pd.DataFrame(data)\n",
    "\n",
    "# Fluxo principal\n",
    "def main():\n",
    "    # Extrair texto do PDF\n",
    "    print(\"Extraindo texto do PDF...\")\n",
    "    text_content = extract_text_from_pdf(PDF_PATH)\n",
    "    \n",
    "    # Processar com Groq\n",
    "    print(\"Processando com o modelo LLM...\")\n",
    "    response = process_with_groq(text_content)\n",
    "    \n",
    "    # Converter para DataFrame\n",
    "    print(\"Convertendo para DataFrame...\")\n",
    "    df_funalfa = parse_response_to_df(response)\n",
    "    \n",
    "    # Salvar como CSV\n",
    "    output_path = \"bens_tombados.csv\"\n",
    "    df_funalfa.to_csv(output_path, index=False, encoding='utf-8-sig')\n",
    "    print(f\"Dados salvos em {output_path}\")\n",
    "    \n",
    "    # Mostrar preview\n",
    "    print(\"\\nPreview dos dados:\")\n",
    "    print(df_funalfa.head())\n",
    "\n",
    "if __name__ == \"__main__\":\n",
    "    main()"
   ]
  },
  {
   "cell_type": "markdown",
   "id": "568fe67f-76ec-4aad-b269-df7c9bd1a880",
   "metadata": {},
   "source": [
    "### Extraímos uma amostra do data frame"
   ]
  },
  {
   "cell_type": "code",
   "execution_count": 39,
   "id": "3b9f6323-5ae1-4a35-b3c0-8d8583eb5092",
   "metadata": {},
   "outputs": [
    {
     "name": "stdout",
     "output_type": "stream",
     "text": [
      "    id                                     endereco  \\\n",
      "0  ---                                   ----------   \n",
      "1    1                             Rua Halfeld, s/n   \n",
      "2    2                   Praça Dr. João Pessoa, s/n   \n",
      "3    3                           Parque e Acervo do   \n",
      "4    4  Rua Espírito Santo, 467 e Usina de Marmelos   \n",
      "\n",
      "                                       nome_edificio  \n",
      "0                                      -------------  \n",
      "1   Edifício do antigo Fórum, atual Câmara Municipal  \n",
      "2                               Cine Theatro Central  \n",
      "3                             Museu Mariano Procópio  \n",
      "4  Remanescentes das antigas instalações da Cia. ...  \n"
     ]
    }
   ],
   "source": [
    "df_tombados = pd.read_csv(\"bens_tombados.csv\")\n",
    "print(df_tombados.head())"
   ]
  },
  {
   "cell_type": "markdown",
   "id": "cff9bfdd-0fc6-4695-bada-67c6100e5012",
   "metadata": {},
   "source": [
    "### Removemos os registros em branco"
   ]
  },
  {
   "cell_type": "code",
   "execution_count": 40,
   "id": "7ef86d1b-56fd-4a37-b41d-112022d57115",
   "metadata": {},
   "outputs": [
    {
     "name": "stdout",
     "output_type": "stream",
     "text": [
      "    id                                     endereco  \\\n",
      "0  ---                                   ----------   \n",
      "1    1                             Rua Halfeld, s/n   \n",
      "2    2                   Praça Dr. João Pessoa, s/n   \n",
      "3    3                           Parque e Acervo do   \n",
      "4    4  Rua Espírito Santo, 467 e Usina de Marmelos   \n",
      "\n",
      "                                       nome_edificio  \n",
      "0                                      -------------  \n",
      "1   Edifício do antigo Fórum, atual Câmara Municipal  \n",
      "2                               Cine Theatro Central  \n",
      "3                             Museu Mariano Procópio  \n",
      "4  Remanescentes das antigas instalações da Cia. ...  \n"
     ]
    }
   ],
   "source": [
    "df_tombados_filtrado = df_tombados.dropna()\n",
    "print(df_tombados_filtrado.head())"
   ]
  },
  {
   "cell_type": "markdown",
   "id": "b9b50a14-5eb5-44a0-a5dc-97153cefed55",
   "metadata": {},
   "source": [
    "### Atribuímos nomes específicos aos registros genéricos"
   ]
  },
  {
   "cell_type": "code",
   "execution_count": 41,
   "id": "eb581d87-cbb5-4022-a0d9-e2c5833bacd8",
   "metadata": {},
   "outputs": [],
   "source": [
    "# Configuração do fuzzy matching\n",
    "LIMITE_SIMILARIDADE = 85  # Ajuste conforme necessidade (0-100)\n",
    "\n",
    "def padronizar_endereco(endereco):\n",
    "    # Remover termos irrelevantes e padronizar\n",
    "    endereco = re.sub(r'(Imóvel à |nº ?|,|\\.)', '', str(endereco))\n",
    "    endereco = re.sub(r'\\s+', ' ', endereco).strip().lower()\n",
    "    \n",
    "    # Padronizar variações comuns\n",
    "    substituicoes = {\n",
    "        'av ': 'avenida ',\n",
    "        'av. ': 'avenida ',\n",
    "        'r ': 'rua ',\n",
    "        'pc ': 'praça ',\n",
    "        'estr ': 'estrada '\n",
    "    }\n",
    "    for orig, subst in substituicoes.items():\n",
    "        endereco = endereco.replace(orig, subst)\n",
    "    \n",
    "    return endereco\n",
    "\n",
    "def encontrar_melhor_match(endereco_alvo, opcoes):\n",
    "    # Padronizar o endereço alvo\n",
    "    endereco_alvo_padrao = padronizar_endereco(endereco_alvo)\n",
    "    \n",
    "    # Padronizar todas as opções de referência\n",
    "    opcoes_padrao = [padronizar_endereco(op) for op in opcoes]\n",
    "    \n",
    "    # Usar fuzzywuzzy para encontrar a melhor correspondência\n",
    "    melhor_match, score = process.extractOne(\n",
    "        endereco_alvo_padrao,\n",
    "        opcoes_padrao,\n",
    "        scorer=fuzz.token_set_ratio\n",
    "    )\n",
    "    \n",
    "    # Retornar o endereço original (não padronizado) se atender ao limite\n",
    "    if score >= LIMITE_SIMILARIDADE:\n",
    "        return opcoes[opcoes_padrao.index(melhor_match)]\n",
    "    return None\n",
    "\n",
    "def atualizar_com_fuzzy_matching(df, df_imovel):\n",
    "    # Criar cópia explícita para evitar SettingWithCopyWarning\n",
    "    df_imovel_clean = df_imovel.copy()\n",
    "    \n",
    "    # Criar lista de endereços de referência\n",
    "    enderecos_referencia = df['endereco'].dropna().unique()\n",
    "    \n",
    "    # Criar coluna temporária para os matches\n",
    "    df_imovel_clean['match_encontrado'] = None\n",
    "    \n",
    "    # Para cada endereço em df_imovel, encontrar o melhor match\n",
    "    for idx, row in df_imovel_clean.iterrows():\n",
    "        endereco_imovel = row['Bem']\n",
    "        melhor_match = encontrar_melhor_match(endereco_imovel, enderecos_referencia)\n",
    "        \n",
    "        if melhor_match:\n",
    "            # Encontrar o nome do edifício correspondente\n",
    "            nome_edificio = df.loc[df['endereco'] == melhor_match, 'nome_edificio'].values[0]\n",
    "            df_imovel_clean.at[idx, 'match_encontrado'] = nome_edificio\n",
    "    \n",
    "    # Atualizar a coluna 'Bem' onde encontramos matches\n",
    "    df_imovel_clean['Bem'] = df_imovel_clean.apply(\n",
    "        lambda x: x['match_encontrado'] if pd.notna(x['match_encontrado']) else x['Bem'],\n",
    "        axis=1\n",
    "    )\n",
    "    \n",
    "    # Remover coluna temporária\n",
    "    df_imovel_clean.drop(columns=['match_encontrado'], inplace=True)\n",
    "    \n",
    "    return df_imovel_clean\n",
    "\n",
    "# Exemplo de uso:\n",
    "df = df_tombados_filtrado.copy()\n",
    "\n",
    "# Aplicar a atualização com fuzzy matching\n",
    "df_imovel_atualizado = atualizar_com_fuzzy_matching(df, df_imovel)\n",
    "\n",
    "# Mostrar resultados\n",
    "#print(\"\\nResultado da atualização:\")\n",
    "#print(df_imovel_atualizado)\n",
    "\n",
    "# Salvar resultado\n",
    "df_imovel_atualizado.to_csv('imoveis_atualizados_fuzzy.csv', index=False, encoding='utf-8-sig')"
   ]
  },
  {
   "cell_type": "markdown",
   "id": "9d9cdbbb-eb8c-4de7-ba01-1b024c9c629a",
   "metadata": {},
   "source": [
    "### Filtramos o dataframe atualizado"
   ]
  },
  {
   "cell_type": "code",
   "execution_count": 42,
   "id": "dcf6f4d3-e2d9-4da7-a8f2-e312e697fd10",
   "metadata": {},
   "outputs": [
    {
     "name": "stdout",
     "output_type": "stream",
     "text": [
      "                                                   Bem   Latitude  Longitude\n",
      "60                              Escola Duque de Caxias -21.768333 -43.347222\n",
      "61                                     Círculo Militar -21.769722 -43.347778\n",
      "62                                  Residência Colucci -21.770556 -43.346944\n",
      "63                                     Grupos Centrais -21.771944 -43.347222\n",
      "64                  Anexo do Núcleo Histórico da RFFSA -21.758889 -43.343889\n",
      "66                   DCE – Antiga Diretoria de Higiene -21.760556 -43.346667\n",
      "67                   DCE – Antiga Diretoria de Higiene -21.760556 -43.346667\n",
      "68                        Fábrica Bernardo Mascarenhas -21.760556 -43.346667\n",
      "69                        Fábrica Bernardo Mascarenhas -21.760000 -43.346389\n",
      "70                            Antigo Mercado Municipal -21.754444 -43.352222\n",
      "71                                Associação Comercial -21.759722 -43.344167\n",
      "72                                Cine Theatro Central -21.761389 -43.348056\n",
      "73                                   Fazenda da Tapera -21.738056 -43.360833\n",
      "75                              Castelinho dos Bracher -21.764722 -43.344722\n",
      "76                              Castelinho dos Bracher -21.764722 -43.344722\n",
      "77                              Castelinho dos Bracher -21.764722 -43.345833\n",
      "90                                         Cine Palace -21.759167 -43.347222\n",
      "91                                         Cine Palace -21.760000 -43.346944\n",
      "92                                               CEMIG -21.742222 -43.373889\n",
      "93                                Colégio do Carmo GHH -21.756667 -43.354444\n",
      "94   Colégio Cristo Redentor, antiga Academia de Co... -21.762500 -43.353056\n",
      "95                                     Banco do Brasil -21.760278 -43.346111\n",
      "96                               Banco de Crédito Real -21.760556 -43.346667\n",
      "97                                         Cine Palace -21.760833 -43.346944\n",
      "98                                     Banco do Brasil -21.760556 -43.346667\n",
      "99                                     Banco do Brasil -21.761111 -43.348056\n",
      "100  Colégio Cristo Redentor, antiga Academia de Co... -21.761389 -43.348056\n",
      "101                                    Banco do Brasil -21.761389 -43.348056\n",
      "102  Colégio Cristo Redentor, antiga Academia de Co... -21.761389 -43.348056\n",
      "103                                    Banco do Brasil -21.761389 -43.348056\n",
      "106  Edifício-Sede da Agência da Empresa Brasileira... -21.759444 -43.344444\n"
     ]
    }
   ],
   "source": [
    "df_imovel_nomeado = df_imovel_atualizado[~df_imovel_atualizado['Bem'].str.contains('Imóvel', case=False)]\n",
    "print(df_imovel_nomeado)"
   ]
  },
  {
   "cell_type": "markdown",
   "id": "4dacb72b-4181-4e89-9c50-58ea2a89ef3a",
   "metadata": {},
   "source": [
    "### Unificamos os dataframes"
   ]
  },
  {
   "cell_type": "code",
   "execution_count": 43,
   "id": "fdb8c0cd-7f0f-4e17-8474-3630b2b54e09",
   "metadata": {},
   "outputs": [
    {
     "name": "stdout",
     "output_type": "stream",
     "text": [
      "                                               Bem   Latitude  Longitude\n",
      "1                                 Agência Bradesco -21.761111 -43.348056\n",
      "3                                   Alfândega Seca -21.761389 -43.343056\n",
      "4                Antiga Diretoria de Higiene – DCE -21.758611 -43.348889\n",
      "5  Antiga Estação Ferroviária da Central do Brasil -22.903611 -43.191111\n",
      "6      Antiga Estação Ferroviária de Santos Dumont -21.455833 -43.549722\n"
     ]
    }
   ],
   "source": [
    "df_imovel_nomeado = df_imovel_nomeado.iloc[:-1]\n",
    "df_bens = pd.concat([df_temp, df_imovel_nomeado], axis=0)\n",
    "print(df_bens.head())\n"
   ]
  },
  {
   "cell_type": "markdown",
   "id": "45405d02-59f5-4619-8f85-782c26791e1b",
   "metadata": {},
   "source": [
    "### Convertemos o dataframe final em dicionário"
   ]
  },
  {
   "cell_type": "code",
   "execution_count": 44,
   "id": "3411d44a-3b71-4820-88e6-16c4f9c356fe",
   "metadata": {},
   "outputs": [],
   "source": [
    "bens = df_bens.to_dict('records')"
   ]
  },
  {
   "cell_type": "markdown",
   "id": "da692185-c501-4ace-a591-978f495dd7b8",
   "metadata": {},
   "source": [
    "### Visualizamos os dados em um mapa interativo"
   ]
  },
  {
   "cell_type": "code",
   "execution_count": 45,
   "id": "8fda445f-d284-4644-ac29-fed881e73973",
   "metadata": {},
   "outputs": [
    {
     "name": "stdout",
     "output_type": "stream",
     "text": [
      "Mapa salvo como 'mapa_bens_tombados_jf.html'\n"
     ]
    }
   ],
   "source": [
    "\n",
    "if not bens:\n",
    "    print(\"Nenhum bem foi extraído. Verifique a estrutura da tabela na página.\")\n",
    "else:\n",
    "    # Criar mapa base centrado em Juiz de Fora\n",
    "    museu_mapa = folium.Map(location=[-21.7625, -43.35], zoom_start=13)\n",
    "\n",
    "    # Estrutura GeoJSON para armazenar os bens (apenas para busca)\n",
    "    obras_geojson = {\n",
    "        \"type\": \"FeatureCollection\",\n",
    "        \"features\": []\n",
    "    }\n",
    "\n",
    "    # Criar FeatureGroup para os marcadores visíveis\n",
    "    bens_group = folium.FeatureGroup(name=\"Bens Tombados\", show=True)\n",
    "\n",
    "    # Preencher o GeoJSON e adicionar marcadores visíveis\n",
    "    for item in bens:\n",
    "        nome = item['Bem']\n",
    "        lat = item['Latitude']\n",
    "        lon = item['Longitude']\n",
    "\n",
    "        if lat is not None and lon is not None:\n",
    "            # Adicionar ao GeoJSON (para busca)\n",
    "            obras_geojson[\"features\"].append({\n",
    "                \"type\": \"Feature\",\n",
    "                \"properties\": {\"nome\": nome},\n",
    "                \"geometry\": {\n",
    "                    \"type\": \"Point\",\n",
    "                    \"coordinates\": [lon, lat]\n",
    "                }\n",
    "            })\n",
    "\n",
    "            # Adicionar marcador visível ao FeatureGroup\n",
    "            folium.Marker(\n",
    "                location=[lat, lon],\n",
    "                popup=nome,\n",
    "                icon=folium.Icon(color=\"orange\", icon=\"monument\", prefix=\"fa\")\n",
    "            ).add_to(bens_group)\n",
    "\n",
    "    # Adicionar o FeatureGroup ao mapa\n",
    "    bens_group.add_to(museu_mapa)\n",
    "\n",
    "    # Criar camada GeoJSON oculta apenas para busca\n",
    "    geojson_layer = folium.GeoJson(\n",
    "        obras_geojson,\n",
    "        name=\"GeoJSON Busca\",\n",
    "        style_function=lambda x: {\n",
    "            'fillOpacity': 0,  # Totalmente transparente\n",
    "            'opacity': 0,      # Totalmente transparente\n",
    "            'radius': 0        # Tamanho zero\n",
    "        },\n",
    "        marker=folium.Circle(radius=0),  # Marcador invisível\n",
    "        control=False  # Não aparece no controle de camadas\n",
    "    ).add_to(museu_mapa)\n",
    "\n",
    "    # Configurar o plugin de busca na camada GeoJSON oculta\n",
    "    search_plugin = Search(\n",
    "        layer=geojson_layer,\n",
    "        search_label=\"nome\",\n",
    "        placeholder=\"Buscar obra...\",\n",
    "        collapsed=False,\n",
    "        position='topleft'\n",
    "    ).add_to(museu_mapa)\n",
    "\n",
    "    # Adicionar controle de camadas\n",
    "    folium.LayerControl().add_to(museu_mapa)\n",
    "\n",
    "    # Salvar mapa\n",
    "    museu_mapa.save(\"mapa_bens_tombados_jf.html\")\n",
    "    print(\"Mapa salvo como 'mapa_bens_tombados_jf.html'\")"
   ]
  },
  {
   "cell_type": "markdown",
   "id": "80f873ad-3311-4481-aa16-11061a39ddc3",
   "metadata": {},
   "source": [
    "### Agrupamos os dados em um mapa interativo"
   ]
  },
  {
   "cell_type": "code",
   "execution_count": 48,
   "id": "6e7da073-d164-4a93-99e8-0c0cb3031db0",
   "metadata": {},
   "outputs": [
    {
     "name": "stdout",
     "output_type": "stream",
     "text": [
      "Mapa salvo como 'cluster_bens_tombados_jf.html'\n"
     ]
    }
   ],
   "source": [
    "if not bens:\n",
    "    print(\"Nenhum bem foi extraído. Verifique a estrutura da tabela na página.\")\n",
    "else:\n",
    "    # Criar mapa base centrado em Juiz de Fora\n",
    "    museu_mapa = folium.Map(location=[-21.7625, -43.35], zoom_start=13)\n",
    "\n",
    "    # Criar um MarkerCluster para agrupar os marcadores\n",
    "    marker_cluster = MarkerCluster(\n",
    "        name=\"Bens Tombados\",\n",
    "        overlay=True,\n",
    "        control=True,\n",
    "        options={'maxClusterRadius': 40}\n",
    "    ).add_to(museu_mapa)\n",
    "\n",
    "    # Estrutura GeoJSON para armazenar os bens (apenas para busca)\n",
    "    obras_geojson = {\n",
    "        \"type\": \"FeatureCollection\",\n",
    "        \"features\": []\n",
    "    }\n",
    "\n",
    "    # Preencher o GeoJSON e adicionar marcadores ao cluster\n",
    "    for item in bens:\n",
    "        nome = item['Bem']\n",
    "        lat = item['Latitude']\n",
    "        lon = item['Longitude']\n",
    "\n",
    "        if lat is not None and lon is not None:\n",
    "            # Adicionar ao GeoJSON (para busca)\n",
    "            obras_geojson[\"features\"].append({\n",
    "                \"type\": \"Feature\",\n",
    "                \"properties\": {\"nome\": nome},\n",
    "                \"geometry\": {\n",
    "                    \"type\": \"Point\",\n",
    "                    \"coordinates\": [lon, lat]\n",
    "                }\n",
    "            })\n",
    "\n",
    "            # Adicionar marcador ao cluster\n",
    "            folium.Marker(\n",
    "                location=[lat, lon],\n",
    "                popup=nome,\n",
    "                icon=folium.Icon(color=\"orange\", icon=\"monument\", prefix=\"fa\")\n",
    "            ).add_to(marker_cluster)\n",
    "\n",
    "    # Criar camada GeoJSON oculta apenas para busca\n",
    "    geojson_layer = folium.GeoJson(\n",
    "        obras_geojson,\n",
    "        name=\"GeoJSON Busca\",\n",
    "        style_function=lambda x: {\n",
    "            'fillOpacity': 0,  # Totalmente transparente\n",
    "            'opacity': 0,      # Totalmente transparente\n",
    "            'radius': 0        # Tamanho zero\n",
    "        },\n",
    "        marker=folium.Circle(radius=0),  # Marcador invisível\n",
    "        control=False  # Não aparece no controle de camadas\n",
    "    ).add_to(museu_mapa)\n",
    "\n",
    "    # Configurar o plugin de busca na camada GeoJSON oculta\n",
    "    search_plugin = Search(\n",
    "        layer=geojson_layer,\n",
    "        search_label=\"nome\",\n",
    "        placeholder=\"Buscar obra...\",\n",
    "        collapsed=False,\n",
    "        position='topleft'\n",
    "    ).add_to(museu_mapa)\n",
    "\n",
    "    # Adicionar controle de camadas\n",
    "    folium.LayerControl().add_to(museu_mapa)\n",
    "\n",
    "    # Salvar mapa\n",
    "    museu_mapa.save(\"cluster_bens_tombados_jf.html\")\n",
    "    print(\"Mapa salvo como 'cluster_bens_tombados_jf.html'\")"
   ]
  },
  {
   "cell_type": "markdown",
   "id": "18a9ff10-4124-4159-9a55-4a0764e5bba3",
   "metadata": {},
   "source": [
    "### Filtramos os pontos dentro do polígono de Juiz de Fora"
   ]
  },
  {
   "cell_type": "code",
   "execution_count": 57,
   "id": "ca5ab45b-ca91-4373-a4aa-f3af2d1ec6db",
   "metadata": {},
   "outputs": [
    {
     "name": "stdout",
     "output_type": "stream",
     "text": [
      "Mapa salvo com 115 bens tombados dentro dos limites de JF\n"
     ]
    }
   ],
   "source": [
    "# Obter os limites de Juiz de Fora\n",
    "place = 'Juiz de Fora, MG, Brasil'\n",
    "gdf = ox.geocoder.geocode_to_gdf(place)\n",
    "\n",
    "# Extrair as coordenadas da bounding box (bbox)\n",
    "bbox = gdf.iloc[0][['bbox_west', 'bbox_south', 'bbox_east', 'bbox_north']].values\n",
    "\n",
    "# Criar o dicionário no formato desejado\n",
    "JF_BOUNDS = {\n",
    "    'min_lat': float(bbox[1]),  # bbox_south\n",
    "    'max_lat': float(bbox[3]),  # bbox_north\n",
    "    'min_lon': float(bbox[0]),  # bbox_west\n",
    "    'max_lon': float(bbox[2])   # bbox_east\n",
    "}\n",
    "\n",
    "def dentro_dos_limites(lat, lon):\n",
    "    return (JF_BOUNDS['min_lat'] <= lat <= JF_BOUNDS['max_lat'] and\n",
    "            JF_BOUNDS['min_lon'] <= lon <= JF_BOUNDS['max_lon'])\n",
    "\n",
    "\n",
    "if not bens:\n",
    "    print(\"Nenhum bem foi extraído. Verifique a estrutura da tabela na página.\")\n",
    "else:\n",
    "    # Filtrar bens que estão dentro dos limites de JF\n",
    "    bens_filtrados = [item for item in bens \n",
    "                     if item['Latitude'] is not None \n",
    "                     and item['Longitude'] is not None\n",
    "                     and dentro_dos_limites(item['Latitude'], item['Longitude'])]\n",
    "    \n",
    "    # Criar mapa base centrado em Juiz de Fora\n",
    "    museu_mapa = folium.Map(location=[-21.7625, -43.35], zoom_start=13)\n",
    "\n",
    "    # Criar um MarkerCluster para agrupar os marcadores\n",
    "    marker_cluster = MarkerCluster(\n",
    "        name=\"Bens Tombados\",\n",
    "        overlay=True,\n",
    "        control=True,\n",
    "        options={'maxClusterRadius': 40}\n",
    "    ).add_to(museu_mapa)\n",
    "\n",
    "    # Estrutura GeoJSON para armazenar os bens (apenas para busca)\n",
    "    obras_geojson = {\n",
    "        \"type\": \"FeatureCollection\",\n",
    "        \"features\": []\n",
    "    }\n",
    "\n",
    "    # Preencher o GeoJSON e adicionar marcadores ao cluster\n",
    "    for item in bens_filtrados:\n",
    "        nome = item['Bem']\n",
    "        lat = item['Latitude']\n",
    "        lon = item['Longitude']\n",
    "\n",
    "        # Adicionar ao GeoJSON (para busca)\n",
    "        obras_geojson[\"features\"].append({\n",
    "            \"type\": \"Feature\",\n",
    "            \"properties\": {\"nome\": nome},\n",
    "            \"geometry\": {\n",
    "                \"type\": \"Point\",\n",
    "                \"coordinates\": [lon, lat]\n",
    "            }\n",
    "        })\n",
    "\n",
    "        # Adicionar marcador ao cluster\n",
    "        folium.Marker(\n",
    "            location=[lat, lon],\n",
    "            popup=nome,\n",
    "            icon=folium.Icon(color=\"orange\", icon=\"monument\", prefix=\"fa\")\n",
    "        ).add_to(marker_cluster)\n",
    "\n",
    "    # Criar camada GeoJSON oculta apenas para busca\n",
    "    geojson_layer = folium.GeoJson(\n",
    "        obras_geojson,\n",
    "        name=\"GeoJSON Busca\",\n",
    "        style_function=lambda x: {\n",
    "            'fillOpacity': 0,\n",
    "            'opacity': 0,\n",
    "            'radius': 0\n",
    "        },\n",
    "        marker=folium.Circle(radius=0),\n",
    "        control=False\n",
    "    ).add_to(museu_mapa)\n",
    "\n",
    "    # Configurar o plugin de busca\n",
    "    search_plugin = Search(\n",
    "        layer=geojson_layer,\n",
    "        search_label=\"nome\",\n",
    "        placeholder=\"Buscar obra...\",\n",
    "        collapsed=False,\n",
    "        position='topleft'\n",
    "    ).add_to(museu_mapa)\n",
    "\n",
    "    # Adicionar controle de camadas\n",
    "    folium.LayerControl().add_to(museu_mapa)\n",
    "\n",
    "    # Salvar mapa\n",
    "    museu_mapa.save(\"cluster_bens_tombados_jf_1.html\")\n",
    "    print(f\"Mapa salvo com {len(bens_filtrados)} bens tombados dentro dos limites de JF\")"
   ]
  },
  {
   "cell_type": "code",
   "execution_count": null,
   "id": "622c7d41-b073-4ed8-be55-bb29793e04e2",
   "metadata": {},
   "outputs": [],
   "source": []
  }
 ],
 "metadata": {
  "kernelspec": {
   "display_name": "Python 3 (ipykernel)",
   "language": "python",
   "name": "python3"
  },
  "language_info": {
   "codemirror_mode": {
    "name": "ipython",
    "version": 3
   },
   "file_extension": ".py",
   "mimetype": "text/x-python",
   "name": "python",
   "nbconvert_exporter": "python",
   "pygments_lexer": "ipython3",
   "version": "3.12.3"
  }
 },
 "nbformat": 4,
 "nbformat_minor": 5
}
